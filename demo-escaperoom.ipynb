{
 "cells": [
  {
   "cell_type": "markdown",
   "metadata": {
    "id": "TYT-0mpHNz7p",
    "papermill": {
     "duration": 0.022145,
     "end_time": "2020-12-14T16:32:36.503152",
     "exception": false,
     "start_time": "2020-12-14T16:32:36.481007",
     "status": "completed"
    },
    "tags": []
   },
   "source": [
    "**Step 1: Make sure your environment is running :)**"
   ]
  },
  {
   "cell_type": "code",
   "execution_count": 1,
   "metadata": {
    "execution": {
     "iopub.execute_input": "2020-12-14T16:32:36.549627Z",
     "iopub.status.busy": "2020-12-14T16:32:36.548565Z",
     "iopub.status.idle": "2020-12-14T16:32:36.552750Z",
     "shell.execute_reply": "2020-12-14T16:32:36.552137Z"
    },
    "id": "a8n73xYHN_N6",
    "papermill": {
     "duration": 0.028471,
     "end_time": "2020-12-14T16:32:36.552878",
     "exception": false,
     "start_time": "2020-12-14T16:32:36.524407",
     "status": "completed"
    },
    "tags": []
   },
   "outputs": [],
   "source": [
    "#keep track of your environment!!!\n",
    "#freeze if you finished your environment (!just once)\n",
    "#!pip freeze > requirements.txt\n",
    "\n",
    "# to install the environemt you can use this (!everytime you need a new setup)\n",
    "#!pip install -r requirements.txt"
   ]
  },
  {
   "cell_type": "code",
   "execution_count": 2,
   "metadata": {
    "execution": {
     "iopub.execute_input": "2020-12-14T16:32:36.597742Z",
     "iopub.status.busy": "2020-12-14T16:32:36.596989Z",
     "iopub.status.idle": "2020-12-14T16:32:36.600845Z",
     "shell.execute_reply": "2020-12-14T16:32:36.600081Z"
    },
    "id": "JvTFocKkNfLs",
    "papermill": {
     "duration": 0.028433,
     "end_time": "2020-12-14T16:32:36.600964",
     "exception": false,
     "start_time": "2020-12-14T16:32:36.572531",
     "status": "completed"
    },
    "tags": []
   },
   "outputs": [],
   "source": [
    "#hiding the code\n",
    "from IPython.display import HTML\n",
    "\n",
    "# HTML('''<script>\n",
    "# code_show=true; \n",
    "# function code_toggle() {\n",
    "#  if (code_show){\n",
    "#  $('div.input').hide();\n",
    "#  } else {\n",
    "#  $('div.input').show();\n",
    "#  }\n",
    "#  code_show = !code_show\n",
    "# } \n",
    "# $( document ).ready(code_toggle);\n",
    "# </script>\n",
    "# <form action=\"javascript:code_toggle()\"><input type=\"submit\" value=\"Click here to toggle on/off the raw code.\"></form>''')"
   ]
  },
  {
   "cell_type": "markdown",
   "metadata": {
    "id": "or7Fz9zbOMwH",
    "papermill": {
     "duration": 0.020611,
     "end_time": "2020-12-14T16:32:36.642822",
     "exception": false,
     "start_time": "2020-12-14T16:32:36.622211",
     "status": "completed"
    },
    "tags": []
   },
   "source": [
    "**Step 2: Get your Data and prepare it**"
   ]
  },
  {
   "cell_type": "code",
   "execution_count": 3,
   "metadata": {
    "execution": {
     "iopub.execute_input": "2020-12-14T16:32:36.689895Z",
     "iopub.status.busy": "2020-12-14T16:32:36.688927Z",
     "iopub.status.idle": "2020-12-14T16:32:36.692288Z",
     "shell.execute_reply": "2020-12-14T16:32:36.691594Z"
    },
    "id": "6o__qeCKM4cr",
    "papermill": {
     "duration": 0.02916,
     "end_time": "2020-12-14T16:32:36.692406",
     "exception": false,
     "start_time": "2020-12-14T16:32:36.663246",
     "status": "completed"
    },
    "tags": []
   },
   "outputs": [],
   "source": [
    "from IPython import display\n",
    "import ipywidgets as widgets\n",
    "from ipywidgets import Button, HBox, VBox, Label, TwoByTwoLayout\n",
    "import os"
   ]
  },
  {
   "cell_type": "code",
   "execution_count": 4,
   "metadata": {
    "execution": {
     "iopub.execute_input": "2020-12-14T16:32:36.738861Z",
     "iopub.status.busy": "2020-12-14T16:32:36.738045Z",
     "iopub.status.idle": "2020-12-14T16:32:36.743191Z",
     "shell.execute_reply": "2020-12-14T16:32:36.742475Z"
    },
    "executionInfo": {
     "elapsed": 603,
     "status": "ok",
     "timestamp": 1595626272838,
     "user": {
      "displayName": "Colin Hoffmann",
      "photoUrl": "",
      "userId": "07384932851980265910"
     },
     "user_tz": -120
    },
    "id": "ugeYkN_wCULg",
    "outputId": "c36cbb7d-b5fd-4dfc-bdee-e3e572960877",
    "papermill": {
     "duration": 0.030677,
     "end_time": "2020-12-14T16:32:36.743309",
     "exception": false,
     "start_time": "2020-12-14T16:32:36.712632",
     "status": "completed"
    },
    "tags": []
   },
   "outputs": [
    {
     "data": {
      "text/plain": [
       "'/kaggle/working'"
      ]
     },
     "execution_count": 4,
     "metadata": {},
     "output_type": "execute_result"
    }
   ],
   "source": [
    "os.getcwd()"
   ]
  },
  {
   "cell_type": "code",
   "execution_count": 5,
   "metadata": {
    "execution": {
     "iopub.execute_input": "2020-12-14T16:32:36.811345Z",
     "iopub.status.busy": "2020-12-14T16:32:36.810599Z",
     "iopub.status.idle": "2020-12-14T16:32:36.837953Z",
     "shell.execute_reply": "2020-12-14T16:32:36.837314Z"
    },
    "papermill": {
     "duration": 0.073568,
     "end_time": "2020-12-14T16:32:36.838070",
     "exception": false,
     "start_time": "2020-12-14T16:32:36.764502",
     "status": "completed"
    },
    "tags": []
   },
   "outputs": [
    {
     "data": {
      "text/html": [
       "<div>\n",
       "<style scoped>\n",
       "    .dataframe tbody tr th:only-of-type {\n",
       "        vertical-align: middle;\n",
       "    }\n",
       "\n",
       "    .dataframe tbody tr th {\n",
       "        vertical-align: top;\n",
       "    }\n",
       "\n",
       "    .dataframe thead th {\n",
       "        text-align: right;\n",
       "    }\n",
       "</style>\n",
       "<table border=\"1\" class=\"dataframe\">\n",
       "  <thead>\n",
       "    <tr style=\"text-align: right;\">\n",
       "      <th></th>\n",
       "      <th>Participant</th>\n",
       "      <th>Alter</th>\n",
       "      <th>Geschlecht</th>\n",
       "      <th>Team</th>\n",
       "      <th>Gruppengrösse</th>\n",
       "      <th>Anzahl Rätstel</th>\n",
       "      <th>Geschwindigkeit</th>\n",
       "      <th>Kategorie</th>\n",
       "    </tr>\n",
       "  </thead>\n",
       "  <tbody>\n",
       "    <tr>\n",
       "      <th>0</th>\n",
       "      <td>Lisa</td>\n",
       "      <td>26</td>\n",
       "      <td>w</td>\n",
       "      <td>1</td>\n",
       "      <td>3</td>\n",
       "      <td>10</td>\n",
       "      <td>01:20:17</td>\n",
       "      <td>m</td>\n",
       "    </tr>\n",
       "    <tr>\n",
       "      <th>1</th>\n",
       "      <td>Julia</td>\n",
       "      <td>12</td>\n",
       "      <td>w</td>\n",
       "      <td>1</td>\n",
       "      <td>3</td>\n",
       "      <td>10</td>\n",
       "      <td>01:20:17</td>\n",
       "      <td>m</td>\n",
       "    </tr>\n",
       "    <tr>\n",
       "      <th>2</th>\n",
       "      <td>Nadine</td>\n",
       "      <td>55</td>\n",
       "      <td>w</td>\n",
       "      <td>1</td>\n",
       "      <td>3</td>\n",
       "      <td>10</td>\n",
       "      <td>01:20:17</td>\n",
       "      <td>m</td>\n",
       "    </tr>\n",
       "    <tr>\n",
       "      <th>3</th>\n",
       "      <td>Lisa</td>\n",
       "      <td>26</td>\n",
       "      <td>m</td>\n",
       "      <td>6</td>\n",
       "      <td>3</td>\n",
       "      <td>10</td>\n",
       "      <td>01:45:17</td>\n",
       "      <td>m</td>\n",
       "    </tr>\n",
       "    <tr>\n",
       "      <th>4</th>\n",
       "      <td>Julia</td>\n",
       "      <td>12</td>\n",
       "      <td>m</td>\n",
       "      <td>6</td>\n",
       "      <td>3</td>\n",
       "      <td>10</td>\n",
       "      <td>01:45:17</td>\n",
       "      <td>m</td>\n",
       "    </tr>\n",
       "  </tbody>\n",
       "</table>\n",
       "</div>"
      ],
      "text/plain": [
       "  Participant  Alter Geschlecht  Team  Gruppengrösse  Anzahl Rätstel  \\\n",
       "0        Lisa     26          w     1              3              10   \n",
       "1       Julia     12          w     1              3              10   \n",
       "2      Nadine     55          w     1              3              10   \n",
       "3        Lisa     26          m     6              3              10   \n",
       "4       Julia     12          m     6              3              10   \n",
       "\n",
       "  Geschwindigkeit Kategorie  \n",
       "0        01:20:17         m  \n",
       "1        01:20:17         m  \n",
       "2        01:20:17         m  \n",
       "3        01:45:17         m  \n",
       "4        01:45:17         m  "
      ]
     },
     "execution_count": 5,
     "metadata": {},
     "output_type": "execute_result"
    }
   ],
   "source": [
    "import pandas as pd\n",
    "\n",
    "data = pd.read_csv('../input/escaperoom-wli/Ideen Wolf-Areal-Escape-Rooms.csv')\n",
    "data.head()"
   ]
  },
  {
   "cell_type": "code",
   "execution_count": 6,
   "metadata": {
    "execution": {
     "iopub.execute_input": "2020-12-14T16:32:36.884230Z",
     "iopub.status.busy": "2020-12-14T16:32:36.883443Z",
     "iopub.status.idle": "2020-12-14T16:32:36.906162Z",
     "shell.execute_reply": "2020-12-14T16:32:36.906711Z"
    },
    "papermill": {
     "duration": 0.047227,
     "end_time": "2020-12-14T16:32:36.906864",
     "exception": false,
     "start_time": "2020-12-14T16:32:36.859637",
     "status": "completed"
    },
    "tags": []
   },
   "outputs": [
    {
     "data": {
      "text/html": [
       "<div>\n",
       "<style scoped>\n",
       "    .dataframe tbody tr th:only-of-type {\n",
       "        vertical-align: middle;\n",
       "    }\n",
       "\n",
       "    .dataframe tbody tr th {\n",
       "        vertical-align: top;\n",
       "    }\n",
       "\n",
       "    .dataframe thead th {\n",
       "        text-align: right;\n",
       "    }\n",
       "</style>\n",
       "<table border=\"1\" class=\"dataframe\">\n",
       "  <thead>\n",
       "    <tr style=\"text-align: right;\">\n",
       "      <th></th>\n",
       "      <th>Participant</th>\n",
       "      <th>Alter</th>\n",
       "      <th>Geschlecht</th>\n",
       "      <th>Team</th>\n",
       "      <th>Gruppengrösse</th>\n",
       "      <th>Anzahl Rätstel</th>\n",
       "      <th>Geschwindigkeit</th>\n",
       "      <th>Kategorie</th>\n",
       "      <th>Time</th>\n",
       "    </tr>\n",
       "  </thead>\n",
       "  <tbody>\n",
       "    <tr>\n",
       "      <th>0</th>\n",
       "      <td>Lisa</td>\n",
       "      <td>26</td>\n",
       "      <td>w</td>\n",
       "      <td>1</td>\n",
       "      <td>3</td>\n",
       "      <td>10</td>\n",
       "      <td>01:20:17</td>\n",
       "      <td>m</td>\n",
       "      <td>2020-12-14 01:20:17</td>\n",
       "    </tr>\n",
       "    <tr>\n",
       "      <th>1</th>\n",
       "      <td>Julia</td>\n",
       "      <td>12</td>\n",
       "      <td>w</td>\n",
       "      <td>1</td>\n",
       "      <td>3</td>\n",
       "      <td>10</td>\n",
       "      <td>01:20:17</td>\n",
       "      <td>m</td>\n",
       "      <td>2020-12-14 01:20:17</td>\n",
       "    </tr>\n",
       "    <tr>\n",
       "      <th>2</th>\n",
       "      <td>Nadine</td>\n",
       "      <td>55</td>\n",
       "      <td>w</td>\n",
       "      <td>1</td>\n",
       "      <td>3</td>\n",
       "      <td>10</td>\n",
       "      <td>01:20:17</td>\n",
       "      <td>m</td>\n",
       "      <td>2020-12-14 01:20:17</td>\n",
       "    </tr>\n",
       "    <tr>\n",
       "      <th>3</th>\n",
       "      <td>Lisa</td>\n",
       "      <td>26</td>\n",
       "      <td>m</td>\n",
       "      <td>6</td>\n",
       "      <td>3</td>\n",
       "      <td>10</td>\n",
       "      <td>01:45:17</td>\n",
       "      <td>m</td>\n",
       "      <td>2020-12-14 01:45:17</td>\n",
       "    </tr>\n",
       "    <tr>\n",
       "      <th>4</th>\n",
       "      <td>Julia</td>\n",
       "      <td>12</td>\n",
       "      <td>m</td>\n",
       "      <td>6</td>\n",
       "      <td>3</td>\n",
       "      <td>10</td>\n",
       "      <td>01:45:17</td>\n",
       "      <td>m</td>\n",
       "      <td>2020-12-14 01:45:17</td>\n",
       "    </tr>\n",
       "  </tbody>\n",
       "</table>\n",
       "</div>"
      ],
      "text/plain": [
       "  Participant  Alter Geschlecht  Team  Gruppengrösse  Anzahl Rätstel  \\\n",
       "0        Lisa     26          w     1              3              10   \n",
       "1       Julia     12          w     1              3              10   \n",
       "2      Nadine     55          w     1              3              10   \n",
       "3        Lisa     26          m     6              3              10   \n",
       "4       Julia     12          m     6              3              10   \n",
       "\n",
       "  Geschwindigkeit Kategorie                Time  \n",
       "0        01:20:17         m 2020-12-14 01:20:17  \n",
       "1        01:20:17         m 2020-12-14 01:20:17  \n",
       "2        01:20:17         m 2020-12-14 01:20:17  \n",
       "3        01:45:17         m 2020-12-14 01:45:17  \n",
       "4        01:45:17         m 2020-12-14 01:45:17  "
      ]
     },
     "execution_count": 6,
     "metadata": {},
     "output_type": "execute_result"
    }
   ],
   "source": [
    "data['Time'] = pd.to_datetime(data.Geschwindigkeit)\n",
    "data.head()"
   ]
  },
  {
   "cell_type": "code",
   "execution_count": 7,
   "metadata": {
    "execution": {
     "iopub.execute_input": "2020-12-14T16:32:36.954250Z",
     "iopub.status.busy": "2020-12-14T16:32:36.953476Z",
     "iopub.status.idle": "2020-12-14T16:32:36.958095Z",
     "shell.execute_reply": "2020-12-14T16:32:36.957429Z"
    },
    "papermill": {
     "duration": 0.029552,
     "end_time": "2020-12-14T16:32:36.958229",
     "exception": false,
     "start_time": "2020-12-14T16:32:36.928677",
     "status": "completed"
    },
    "tags": []
   },
   "outputs": [],
   "source": [
    "# print(data['Geschlecht'])\n",
    "# print(data.Geschlecht)"
   ]
  },
  {
   "cell_type": "code",
   "execution_count": 8,
   "metadata": {
    "execution": {
     "iopub.execute_input": "2020-12-14T16:32:37.017893Z",
     "iopub.status.busy": "2020-12-14T16:32:37.016994Z",
     "iopub.status.idle": "2020-12-14T16:32:37.030060Z",
     "shell.execute_reply": "2020-12-14T16:32:37.030693Z"
    },
    "papermill": {
     "duration": 0.050524,
     "end_time": "2020-12-14T16:32:37.030847",
     "exception": false,
     "start_time": "2020-12-14T16:32:36.980323",
     "status": "completed"
    },
    "tags": []
   },
   "outputs": [
    {
     "data": {
      "text/html": [
       "<div>\n",
       "<style scoped>\n",
       "    .dataframe tbody tr th:only-of-type {\n",
       "        vertical-align: middle;\n",
       "    }\n",
       "\n",
       "    .dataframe tbody tr th {\n",
       "        vertical-align: top;\n",
       "    }\n",
       "\n",
       "    .dataframe thead th {\n",
       "        text-align: right;\n",
       "    }\n",
       "</style>\n",
       "<table border=\"1\" class=\"dataframe\">\n",
       "  <thead>\n",
       "    <tr style=\"text-align: right;\">\n",
       "      <th></th>\n",
       "      <th>Participant</th>\n",
       "      <th>Alter</th>\n",
       "      <th>Team</th>\n",
       "      <th>Gruppengrösse</th>\n",
       "      <th>Anzahl Rätstel</th>\n",
       "      <th>Geschwindigkeit</th>\n",
       "      <th>Time</th>\n",
       "      <th>Geschlecht_d</th>\n",
       "      <th>Geschlecht_m</th>\n",
       "      <th>Geschlecht_w</th>\n",
       "      <th>Kategorie_b</th>\n",
       "      <th>Kategorie_m</th>\n",
       "      <th>Kategorie_s</th>\n",
       "    </tr>\n",
       "  </thead>\n",
       "  <tbody>\n",
       "    <tr>\n",
       "      <th>0</th>\n",
       "      <td>Lisa</td>\n",
       "      <td>26</td>\n",
       "      <td>1</td>\n",
       "      <td>3</td>\n",
       "      <td>10</td>\n",
       "      <td>01:20:17</td>\n",
       "      <td>2020-12-14 01:20:17</td>\n",
       "      <td>0</td>\n",
       "      <td>0</td>\n",
       "      <td>1</td>\n",
       "      <td>0</td>\n",
       "      <td>1</td>\n",
       "      <td>0</td>\n",
       "    </tr>\n",
       "    <tr>\n",
       "      <th>1</th>\n",
       "      <td>Julia</td>\n",
       "      <td>12</td>\n",
       "      <td>1</td>\n",
       "      <td>3</td>\n",
       "      <td>10</td>\n",
       "      <td>01:20:17</td>\n",
       "      <td>2020-12-14 01:20:17</td>\n",
       "      <td>0</td>\n",
       "      <td>0</td>\n",
       "      <td>1</td>\n",
       "      <td>0</td>\n",
       "      <td>1</td>\n",
       "      <td>0</td>\n",
       "    </tr>\n",
       "    <tr>\n",
       "      <th>2</th>\n",
       "      <td>Nadine</td>\n",
       "      <td>55</td>\n",
       "      <td>1</td>\n",
       "      <td>3</td>\n",
       "      <td>10</td>\n",
       "      <td>01:20:17</td>\n",
       "      <td>2020-12-14 01:20:17</td>\n",
       "      <td>0</td>\n",
       "      <td>0</td>\n",
       "      <td>1</td>\n",
       "      <td>0</td>\n",
       "      <td>1</td>\n",
       "      <td>0</td>\n",
       "    </tr>\n",
       "    <tr>\n",
       "      <th>3</th>\n",
       "      <td>Lisa</td>\n",
       "      <td>26</td>\n",
       "      <td>6</td>\n",
       "      <td>3</td>\n",
       "      <td>10</td>\n",
       "      <td>01:45:17</td>\n",
       "      <td>2020-12-14 01:45:17</td>\n",
       "      <td>0</td>\n",
       "      <td>1</td>\n",
       "      <td>0</td>\n",
       "      <td>0</td>\n",
       "      <td>1</td>\n",
       "      <td>0</td>\n",
       "    </tr>\n",
       "    <tr>\n",
       "      <th>4</th>\n",
       "      <td>Julia</td>\n",
       "      <td>12</td>\n",
       "      <td>6</td>\n",
       "      <td>3</td>\n",
       "      <td>10</td>\n",
       "      <td>01:45:17</td>\n",
       "      <td>2020-12-14 01:45:17</td>\n",
       "      <td>0</td>\n",
       "      <td>1</td>\n",
       "      <td>0</td>\n",
       "      <td>0</td>\n",
       "      <td>1</td>\n",
       "      <td>0</td>\n",
       "    </tr>\n",
       "  </tbody>\n",
       "</table>\n",
       "</div>"
      ],
      "text/plain": [
       "  Participant  Alter  Team  Gruppengrösse  Anzahl Rätstel Geschwindigkeit  \\\n",
       "0        Lisa     26     1              3              10        01:20:17   \n",
       "1       Julia     12     1              3              10        01:20:17   \n",
       "2      Nadine     55     1              3              10        01:20:17   \n",
       "3        Lisa     26     6              3              10        01:45:17   \n",
       "4       Julia     12     6              3              10        01:45:17   \n",
       "\n",
       "                 Time  Geschlecht_d  Geschlecht_m  Geschlecht_w  Kategorie_b  \\\n",
       "0 2020-12-14 01:20:17             0             0             1            0   \n",
       "1 2020-12-14 01:20:17             0             0             1            0   \n",
       "2 2020-12-14 01:20:17             0             0             1            0   \n",
       "3 2020-12-14 01:45:17             0             1             0            0   \n",
       "4 2020-12-14 01:45:17             0             1             0            0   \n",
       "\n",
       "   Kategorie_m  Kategorie_s  \n",
       "0            1            0  \n",
       "1            1            0  \n",
       "2            1            0  \n",
       "3            1            0  \n",
       "4            1            0  "
      ]
     },
     "execution_count": 8,
     "metadata": {},
     "output_type": "execute_result"
    }
   ],
   "source": [
    "data = pd.get_dummies(data=data, columns=['Geschlecht', 'Kategorie'])\n",
    "data.head()"
   ]
  },
  {
   "cell_type": "code",
   "execution_count": 9,
   "metadata": {
    "execution": {
     "iopub.execute_input": "2020-12-14T16:32:37.080672Z",
     "iopub.status.busy": "2020-12-14T16:32:37.079941Z",
     "iopub.status.idle": "2020-12-14T16:32:37.088138Z",
     "shell.execute_reply": "2020-12-14T16:32:37.087414Z"
    },
    "papermill": {
     "duration": 0.034623,
     "end_time": "2020-12-14T16:32:37.088261",
     "exception": false,
     "start_time": "2020-12-14T16:32:37.053638",
     "status": "completed"
    },
    "tags": []
   },
   "outputs": [
    {
     "data": {
      "text/plain": [
       "False"
      ]
     },
     "execution_count": 9,
     "metadata": {},
     "output_type": "execute_result"
    }
   ],
   "source": [
    "#check for missing values\n",
    "data.isnull().values.any()"
   ]
  },
  {
   "cell_type": "code",
   "execution_count": 10,
   "metadata": {
    "execution": {
     "iopub.execute_input": "2020-12-14T16:32:37.141374Z",
     "iopub.status.busy": "2020-12-14T16:32:37.140691Z",
     "iopub.status.idle": "2020-12-14T16:32:38.630309Z",
     "shell.execute_reply": "2020-12-14T16:32:38.630781Z"
    },
    "papermill": {
     "duration": 1.518449,
     "end_time": "2020-12-14T16:32:38.630931",
     "exception": false,
     "start_time": "2020-12-14T16:32:37.112482",
     "status": "completed"
    },
    "tags": []
   },
   "outputs": [
    {
     "data": {
      "text/plain": [
       "array([[<matplotlib.axes._subplots.AxesSubplot object at 0x7fe0dc29d990>,\n",
       "        <matplotlib.axes._subplots.AxesSubplot object at 0x7fe0dc117b90>,\n",
       "        <matplotlib.axes._subplots.AxesSubplot object at 0x7fe0dc0e66d0>],\n",
       "       [<matplotlib.axes._subplots.AxesSubplot object at 0x7fe0dc09bd50>,\n",
       "        <matplotlib.axes._subplots.AxesSubplot object at 0x7fe0dc05d410>,\n",
       "        <matplotlib.axes._subplots.AxesSubplot object at 0x7fe0dc076690>],\n",
       "       [<matplotlib.axes._subplots.AxesSubplot object at 0x7fe0d7f98f10>,\n",
       "        <matplotlib.axes._subplots.AxesSubplot object at 0x7fe0d7f59510>,\n",
       "        <matplotlib.axes._subplots.AxesSubplot object at 0x7fe0d7f59550>],\n",
       "       [<matplotlib.axes._subplots.AxesSubplot object at 0x7fe0d7f0fcd0>,\n",
       "        <matplotlib.axes._subplots.AxesSubplot object at 0x7fe0d7e84910>,\n",
       "        <matplotlib.axes._subplots.AxesSubplot object at 0x7fe0d7ebbf90>]],\n",
       "      dtype=object)"
      ]
     },
     "execution_count": 10,
     "metadata": {},
     "output_type": "execute_result"
    },
    {
     "data": {
      "image/png": "[encoded data removed]",
      "text/plain": [
       "<Figure size 432x288 with 12 Axes>"
      ]
     },
     "metadata": {
      "needs_background": "light"
     },
     "output_type": "display_data"
    }
   ],
   "source": [
    "#check for outliers\n",
    "data.hist()"
   ]
  },
  {
   "cell_type": "code",
   "execution_count": 11,
   "metadata": {
    "execution": {
     "iopub.execute_input": "2020-12-14T16:32:38.691788Z",
     "iopub.status.busy": "2020-12-14T16:32:38.690682Z",
     "iopub.status.idle": "2020-12-14T16:32:38.981827Z",
     "shell.execute_reply": "2020-12-14T16:32:38.982386Z"
    },
    "papermill": {
     "duration": 0.320257,
     "end_time": "2020-12-14T16:32:38.982539",
     "exception": false,
     "start_time": "2020-12-14T16:32:38.662282",
     "status": "completed"
    },
    "tags": []
   },
   "outputs": [
    {
     "data": {
      "image/png": "[encoded data removed]",
      "text/plain": [
       "<Figure size 432x288 with 1 Axes>"
      ]
     },
     "metadata": {
      "needs_background": "light"
     },
     "output_type": "display_data"
    },
    {
     "data": {
      "image/png": "[encoded data removed]",
      "text/plain": [
       "<Figure size 432x288 with 1 Axes>"
      ]
     },
     "metadata": {
      "needs_background": "light"
     },
     "output_type": "display_data"
    }
   ],
   "source": [
    "#check for linear relationship\n",
    "import matplotlib.pyplot as plt\n",
    "#plt.subplots(nrows=1, ncols=3)\n",
    "\n",
    "# fig = plt.figure()\n",
    "# fig.subplots_adjust(wspace=0,hspace=0)\n",
    "\n",
    "\n",
    "plt.show(plt.scatter(data['Alter'], data['Geschwindigkeit']))\n",
    "plt.show(plt.scatter(data['Gruppengrösse'], data['Geschwindigkeit']))"
   ]
  },
  {
   "cell_type": "markdown",
   "metadata": {
    "id": "UiVXcQlyOZ7U",
    "papermill": {
     "duration": 0.025482,
     "end_time": "2020-12-14T16:32:39.035264",
     "exception": false,
     "start_time": "2020-12-14T16:32:39.009782",
     "status": "completed"
    },
    "tags": []
   },
   "source": [
    "**Step 3: Train your mathmatical model**"
   ]
  },
  {
   "cell_type": "code",
   "execution_count": 12,
   "metadata": {
    "execution": {
     "iopub.execute_input": "2020-12-14T16:32:39.096882Z",
     "iopub.status.busy": "2020-12-14T16:32:39.096190Z",
     "iopub.status.idle": "2020-12-14T16:32:40.952913Z",
     "shell.execute_reply": "2020-12-14T16:32:40.952336Z"
    },
    "papermill": {
     "duration": 1.891642,
     "end_time": "2020-12-14T16:32:40.953054",
     "exception": false,
     "start_time": "2020-12-14T16:32:39.061412",
     "status": "completed"
    },
    "tags": []
   },
   "outputs": [
    {
     "name": "stdout",
     "output_type": "stream",
     "text": [
      "                            OLS Regression Results                            \n",
      "==============================================================================\n",
      "Dep. Variable:                      y   R-squared:                       0.989\n",
      "Model:                            OLS   Adj. R-squared:                  0.986\n",
      "Method:                 Least Squares   F-statistic:                     345.1\n",
      "Date:                Mon, 14 Dec 2020   Prob (F-statistic):           2.44e-21\n",
      "Time:                        16:32:40   Log-Likelihood:                -844.15\n",
      "No. Observations:                  30   AIC:                             1702.\n",
      "Df Residuals:                      23   BIC:                             1712.\n",
      "Df Model:                           6                                         \n",
      "Covariance Type:            nonrobust                                         \n",
      "==============================================================================\n",
      "                 coef    std err          t      P>|t|      [0.025      0.975]\n",
      "------------------------------------------------------------------------------\n",
      "const       1.608e+18   6.15e+11   2.61e+06      0.000    1.61e+18    1.61e+18\n",
      "x1         -7.786e+09   7.43e+09     -1.048      0.306   -2.32e+10    7.59e+09\n",
      "x2          1.036e+11   7.12e+10      1.456      0.159   -4.36e+10    2.51e+11\n",
      "x3         -8.361e+11   4.22e+11     -1.980      0.060   -1.71e+12    3.76e+10\n",
      "x4          4.987e+11   4.12e+11      1.210      0.238   -3.54e+11    1.35e+12\n",
      "x5         -5.955e+12   2.58e+11    -23.088      0.000   -6.49e+12   -5.42e+12\n",
      "x6         -8.384e+12   2.54e+11    -32.998      0.000   -8.91e+12   -7.86e+12\n",
      "==============================================================================\n",
      "Omnibus:                        3.763   Durbin-Watson:                   1.596\n",
      "Prob(Omnibus):                  0.152   Jarque-Bera (JB):                2.646\n",
      "Skew:                          -0.244   Prob(JB):                        0.266\n",
      "Kurtosis:                       4.371   Cond. No.                         380.\n",
      "==============================================================================\n",
      "\n",
      "Warnings:\n",
      "[1] Standard Errors assume that the covariance matrix of the errors is correctly specified.\n"
     ]
    }
   ],
   "source": [
    "# imports\n",
    "import pandas as pd\n",
    "import statsmodels.api as sm\n",
    "import numpy as np\n",
    "\n",
    "# defining feature matrix(X) and response vector(y) \n",
    "\n",
    "X = data.iloc[:, [1, 3, 9, 8, 11, 10]]\n",
    "y = data['Time']\n",
    "\n",
    "X = np.asarray(X)\n",
    "y = np.asarray(y)\n",
    "\n",
    "# print(X.shape)\n",
    "# print(y.shape)\n",
    "\n",
    "X = sm.add_constant(X) # adding a constant\n",
    "# print(X.shape)\n",
    "\n",
    "model = sm.OLS(y.astype(float), X.astype(float)).fit()\n",
    "predictions = model.predict(X) \n",
    "\n",
    "print_model = model.summary()\n",
    "print(print_model)\n",
    "\n",
    "#print(model.params)"
   ]
  },
  {
   "cell_type": "code",
   "execution_count": 13,
   "metadata": {
    "execution": {
     "iopub.execute_input": "2020-12-14T16:32:41.014636Z",
     "iopub.status.busy": "2020-12-14T16:32:41.013839Z",
     "iopub.status.idle": "2020-12-14T16:32:41.275389Z",
     "shell.execute_reply": "2020-12-14T16:32:41.274236Z"
    },
    "papermill": {
     "duration": 0.296002,
     "end_time": "2020-12-14T16:32:41.275569",
     "exception": false,
     "start_time": "2020-12-14T16:32:40.979567",
     "status": "completed"
    },
    "tags": []
   },
   "outputs": [
    {
     "name": "stdout",
     "output_type": "stream",
     "text": [
      "[-7.78569199e+09  1.03624922e+11 -8.36093015e+11  4.98713028e+11\n",
      " -5.95462492e+12 -8.38394015e+12]\n",
      "1.6079156207966016e+18\n",
      "1607909989653989632:32\n"
     ]
    }
   ],
   "source": [
    "from sklearn import linear_model\n",
    "#Participant\tAlter\tTeam\tGruppengrösse\tAnzahl Rätstel\tGeschwindigkeit\tTime\tGeschlecht_d\tGeschlecht_m\tGeschlecht_w\tKategorie_b\tKategorie_m\tKategorie_s\n",
    "\n",
    "reg = linear_model.LinearRegression()\n",
    "reg.fit(data[['Alter', 'Gruppengrösse', 'Geschlecht_w', 'Geschlecht_m', 'Kategorie_m', 'Kategorie_b' ]], data['Time'])\n",
    "\n",
    "print(reg.coef_)\n",
    "print(reg.intercept_)\n",
    "test = reg.predict(np.array([[25, 5, 0, 0, 1, 0]]))\n",
    "\n",
    "geschw = '{0:02.0f}:{1:02.0f}'.format(*divmod(float(test) * 60, 60))\n",
    "print(geschw)"
   ]
  },
  {
   "cell_type": "markdown",
   "metadata": {
    "id": "a8g9z8vBOh3Z",
    "papermill": {
     "duration": 0.027728,
     "end_time": "2020-12-14T16:32:41.330587",
     "exception": false,
     "start_time": "2020-12-14T16:32:41.302859",
     "status": "completed"
    },
    "tags": []
   },
   "source": [
    "**Step 4: Evaluate your model**"
   ]
  },
  {
   "cell_type": "code",
   "execution_count": 14,
   "metadata": {
    "execution": {
     "iopub.execute_input": "2020-12-14T16:32:41.392556Z",
     "iopub.status.busy": "2020-12-14T16:32:41.391677Z",
     "iopub.status.idle": "2020-12-14T16:32:41.395484Z",
     "shell.execute_reply": "2020-12-14T16:32:41.394897Z"
    },
    "papermill": {
     "duration": 0.037851,
     "end_time": "2020-12-14T16:32:41.395598",
     "exception": false,
     "start_time": "2020-12-14T16:32:41.357747",
     "status": "completed"
    },
    "tags": []
   },
   "outputs": [],
   "source": [
    "# # fixing the trained parameters\n",
    "\n",
    "# b0 = 1.6079156207966016e+18\n",
    "# b1 = -7.78569199e+09\n",
    "# b2 = 1.03624922e+11\n",
    "# b3 = -8.36093015e+11\n",
    "# b4 = 4.98713028e+11\n",
    "# b5 = -5.95462492e+12\n",
    "# b6 = -8.38394015e+12\n",
    "\n",
    "# #!! something went wrong here\n",
    "# print(b6)"
   ]
  },
  {
   "cell_type": "code",
   "execution_count": 15,
   "metadata": {
    "execution": {
     "iopub.execute_input": "2020-12-14T16:32:41.455079Z",
     "iopub.status.busy": "2020-12-14T16:32:41.454402Z",
     "iopub.status.idle": "2020-12-14T16:32:41.460751Z",
     "shell.execute_reply": "2020-12-14T16:32:41.461330Z"
    },
    "id": "fac98waK_KpY",
    "papermill": {
     "duration": 0.038643,
     "end_time": "2020-12-14T16:32:41.461479",
     "exception": false,
     "start_time": "2020-12-14T16:32:41.422836",
     "status": "completed"
    },
    "tags": []
   },
   "outputs": [],
   "source": [
    "# for this example we used the application \"gretl\" in order to train the model, but here are the trained parameters:\n",
    "\n",
    "\n",
    "# Model 1: OLS, using observations 1-30\n",
    "# Dependent variable: Geschwindigkeit\n",
    "\n",
    "#                   coefficient   std. error   t-ratio     p-value \n",
    "#   ---------------------------------------------------------------\n",
    "#   const            4.31185      0.693114       6.221    2.40e-06  ***\n",
    "#   Alter            0.00412011   0.00837268     0.4921   0.6273   \n",
    "#   GruppengrAsse    0.485580     0.0801809      6.056    3.55e-06  ***\n",
    "#   female           0.310912     0.475766       0.6535   0.5199   \n",
    "#   men             −0.132374     0.464225      −0.2852   0.7781   \n",
    "#   middle          −4.48558      0.290538     −15.44     1.25e-013 ***\n",
    "#   best            −2.93957      0.286221     −10.27     4.61e-010 ***\n",
    "\n",
    "# Mean dependent var   4.966667   S.D. dependent var   2.456284\n",
    "# Sum squared resid    6.149541   S.E. of regression   0.517080\n",
    "# R-squared            0.964853   Adjusted R-squared   0.955684\n",
    "# F(6, 23)             105.2326   P-value(F)           1.50e-15\n",
    "# Log-likelihood      −18.79586   Akaike criterion     51.59171\n",
    "# Schwarz criterion    61.40010   Hannan-Quinn         54.72950\n",
    "\n",
    "# Excluding the constant, p-value was highest for variable 10 (men)\n",
    "\n",
    "\n",
    "\n",
    "\n",
    "b0 = 4.31185\n",
    "b1 = 0.00412011\n",
    "b2 = 0.485580\n",
    "b3 = 0.310912\n",
    "b4 = -0.132374\n",
    "b5 = -4.48558\n",
    "b6 = -2.93957 \n"
   ]
  },
  {
   "cell_type": "code",
   "execution_count": 16,
   "metadata": {
    "execution": {
     "iopub.execute_input": "2020-12-14T16:32:41.524085Z",
     "iopub.status.busy": "2020-12-14T16:32:41.522833Z",
     "iopub.status.idle": "2020-12-14T16:32:41.528193Z",
     "shell.execute_reply": "2020-12-14T16:32:41.529087Z"
    },
    "id": "_imB7GxjyWUY",
    "papermill": {
     "duration": 0.040678,
     "end_time": "2020-12-14T16:32:41.529390",
     "exception": false,
     "start_time": "2020-12-14T16:32:41.488712",
     "status": "completed"
    },
    "tags": []
   },
   "outputs": [],
   "source": [
    "# Input via Jupyter Widgets e.g. new wine coordinates\n",
    "# Output = Prediction of time needed for an escape room game"
   ]
  },
  {
   "cell_type": "markdown",
   "metadata": {
    "id": "eZQPRwqlOpRE",
    "papermill": {
     "duration": 0.029658,
     "end_time": "2020-12-14T16:32:41.588990",
     "exception": false,
     "start_time": "2020-12-14T16:32:41.559332",
     "status": "completed"
    },
    "tags": []
   },
   "source": [
    "**Step 5: Visualize your prediction**"
   ]
  },
  {
   "cell_type": "code",
   "execution_count": 17,
   "metadata": {
    "execution": {
     "iopub.execute_input": "2020-12-14T16:32:41.650450Z",
     "iopub.status.busy": "2020-12-14T16:32:41.649790Z",
     "iopub.status.idle": "2020-12-14T16:32:41.654674Z",
     "shell.execute_reply": "2020-12-14T16:32:41.655534Z"
    },
    "id": "Sr_7wmfM-i6q",
    "papermill": {
     "duration": 0.036835,
     "end_time": "2020-12-14T16:32:41.655755",
     "exception": false,
     "start_time": "2020-12-14T16:32:41.618920",
     "status": "completed"
    },
    "tags": []
   },
   "outputs": [],
   "source": [
    "import ipywidgets as widgets"
   ]
  },
  {
   "cell_type": "code",
   "execution_count": 18,
   "metadata": {
    "execution": {
     "iopub.execute_input": "2020-12-14T16:32:41.746432Z",
     "iopub.status.busy": "2020-12-14T16:32:41.745305Z",
     "iopub.status.idle": "2020-12-14T16:32:41.750571Z",
     "shell.execute_reply": "2020-12-14T16:32:41.751580Z"
    },
    "id": "I5kJvUP9Dnr3",
    "papermill": {
     "duration": 0.054473,
     "end_time": "2020-12-14T16:32:41.751811",
     "exception": false,
     "start_time": "2020-12-14T16:32:41.697338",
     "status": "completed"
    },
    "tags": []
   },
   "outputs": [],
   "source": [
    "list_predict = []\n",
    "list_teamname = []\n",
    "list_teamsize = []\n",
    "\n",
    "def predict_time(button):\n",
    "    global b0, b1, b2, b3, b4, b5, b6\n",
    "    \n",
    "    x1 = float(age.value.strip())\n",
    "    x2 = float(teamsize.value.strip())\n",
    "    x3 = float(female.value.strip())\n",
    "    x4 = float(male.value.strip())\n",
    "    x5 = float(middle.value.strip())\n",
    "    x6 = float(best.value.strip())\n",
    "    \n",
    "    y = b0  + b1 * x1 + b2 * x2 + b3 * x3 + b4 * x4 + b5 * x5 + b6 * x6 \n",
    "    y = abs(y)\n",
    "    \n",
    "    geschw = '{0:02.0f}:{1:02.0f}'.format(*divmod(y * 60, 60))\n",
    "    \n",
    "    \n",
    "    print(y, ' -> ', geschw)\n",
    "    list_predict.append(geschw)\n",
    "    list_teamname.append(team_name.value.strip())\n",
    "    list_teamsize.append(teamsize.value.strip())"
   ]
  },
  {
   "cell_type": "markdown",
   "metadata": {
    "id": "8ByT_1au8Q3s",
    "papermill": {
     "duration": 0.044505,
     "end_time": "2020-12-14T16:32:41.827913",
     "exception": false,
     "start_time": "2020-12-14T16:32:41.783408",
     "status": "completed"
    },
    "tags": []
   },
   "source": [
    "**Step 6: Get the value out of it**"
   ]
  },
  {
   "cell_type": "code",
   "execution_count": 19,
   "metadata": {
    "execution": {
     "iopub.execute_input": "2020-12-14T16:32:41.970012Z",
     "iopub.status.busy": "2020-12-14T16:32:41.968928Z",
     "iopub.status.idle": "2020-12-14T16:32:41.999942Z",
     "shell.execute_reply": "2020-12-14T16:32:41.989848Z"
    },
    "executionInfo": {
     "elapsed": 710,
     "status": "ok",
     "timestamp": 1595626673336,
     "user": {
      "displayName": "Colin Hoffmann",
      "photoUrl": "",
      "userId": "07384932851980265910"
     },
     "user_tz": -120
    },
    "id": "_G6G7WXdAnDR",
    "outputId": "f36e7e36-3100-4b70-c938-8be16a323a73",
    "papermill": {
     "duration": 0.143709,
     "end_time": "2020-12-14T16:32:42.000062",
     "exception": false,
     "start_time": "2020-12-14T16:32:41.856353",
     "status": "completed"
    },
    "tags": []
   },
   "outputs": [
    {
     "data": {
      "application/vnd.jupyter.widget-view+json": {
       "model_id": "523c121ff7bc4ddd971297efed8998f2",
       "version_major": 2,
       "version_minor": 0
      },
      "text/plain": [
       "Text(value='', description='team-name:', placeholder='teamname')"
      ]
     },
     "metadata": {},
     "output_type": "display_data"
    },
    {
     "data": {
      "application/vnd.jupyter.widget-view+json": {
       "model_id": "fa5a5f03349848ffbeceb4a4c21c1fa1",
       "version_major": 2,
       "version_minor": 0
      },
      "text/plain": [
       "Text(value='', description='teamsize:', placeholder='teamsize')"
      ]
     },
     "metadata": {},
     "output_type": "display_data"
    },
    {
     "data": {
      "application/vnd.jupyter.widget-view+json": {
       "model_id": "5542ab64969845d5bdc420d3cf1522fd",
       "version_major": 2,
       "version_minor": 0
      },
      "text/plain": [
       "Text(value='', description='age:', placeholder='age')"
      ]
     },
     "metadata": {},
     "output_type": "display_data"
    },
    {
     "data": {
      "application/vnd.jupyter.widget-view+json": {
       "model_id": "4851c1c6b7a342e0b5614361114d56b7",
       "version_major": 2,
       "version_minor": 0
      },
      "text/plain": [
       "Text(value='', description='gender:', placeholder='1=female, 0=male, 0=divers')"
      ]
     },
     "metadata": {},
     "output_type": "display_data"
    },
    {
     "data": {
      "application/vnd.jupyter.widget-view+json": {
       "model_id": "3171d9ddeb7343e1bf2465e9c903be5f",
       "version_major": 2,
       "version_minor": 0
      },
      "text/plain": [
       "Text(value='', description='category:', placeholder='best=0, middle=1, bad=2')"
      ]
     },
     "metadata": {},
     "output_type": "display_data"
    },
    {
     "data": {
      "application/vnd.jupyter.widget-view+json": {
       "model_id": "d280e2e3e6b243829736991637ea4993",
       "version_major": 2,
       "version_minor": 0
      },
      "text/plain": [
       "Button(button_style='warning', description='Create', icon='check', style=ButtonStyle(), tooltip='search')"
      ]
     },
     "metadata": {},
     "output_type": "display_data"
    }
   ],
   "source": [
    "age = widgets.Text(value='',\n",
    "                    placeholder='age',\n",
    "                    description='age:',\n",
    "                    disabled=False)\n",
    "\n",
    "\n",
    "teamsize = widgets.Text(value='',\n",
    "                    placeholder='teamsize',\n",
    "                    description='teamsize:',\n",
    "                    disabled=False)\n",
    "\n",
    "gender = widgets.Text(value='',\n",
    "                    placeholder='1=female, 0=male, 0=divers',\n",
    "                    description='gender:',\n",
    "                    disabled=False)\n",
    "\n",
    "female = widgets.Text(value='1',\n",
    "                    placeholder='1=female, 0=male, 0=divers',\n",
    "                    description='female?:',\n",
    "                    disabled=False)\n",
    "\n",
    "male = widgets.Text(value='0',\n",
    "                    placeholder='0=female, 1=male, 0=divers',\n",
    "                    description='male?:',\n",
    "                    disabled=False)\n",
    "\n",
    "category = widgets.Text(value='',\n",
    "                    placeholder='best=0, middle=1, bad=2',\n",
    "                    description='category:',\n",
    "                    disabled=False)\n",
    "\n",
    "\n",
    "middle = widgets.Text(value='1',\n",
    "                    placeholder='0=best, 1=middle, 0=bad',\n",
    "                    description='estimation:',\n",
    "                    disabled=False)\n",
    "\n",
    "best = widgets.Text(value='0',\n",
    "                    placeholder='1=best, 0=middle, 0=bad',\n",
    "                    description='estimation:',\n",
    "                    disabled=False)\n",
    "\n",
    "team_name = widgets.Text(value='',\n",
    "                    placeholder='teamname',\n",
    "                    description='team-name:',\n",
    "                    disabled=False)\n",
    "\n",
    "\n",
    "predict = widgets.Button(\n",
    "    description='Create',\n",
    "    disabled=False,\n",
    "    button_style='warning', # 'success', 'info', 'warning', 'danger' or ''\n",
    "    tooltip='search',\n",
    "    icon='check' # (FontAwesome names without the `fa-` prefix)\n",
    ")\n",
    "\n",
    "\n",
    "display.display(team_name, teamsize, age, gender, category, predict)\n",
    "predict.on_click(predict_time)"
   ]
  },
  {
   "cell_type": "code",
   "execution_count": 20,
   "metadata": {
    "execution": {
     "iopub.execute_input": "2020-12-14T16:32:42.068189Z",
     "iopub.status.busy": "2020-12-14T16:32:42.067459Z",
     "iopub.status.idle": "2020-12-14T16:32:42.071783Z",
     "shell.execute_reply": "2020-12-14T16:32:42.072453Z"
    },
    "papermill": {
     "duration": 0.04158,
     "end_time": "2020-12-14T16:32:42.072599",
     "exception": false,
     "start_time": "2020-12-14T16:32:42.031019",
     "status": "completed"
    },
    "tags": []
   },
   "outputs": [
    {
     "name": "stdout",
     "output_type": "stream",
     "text": [
      "[]\n",
      "[]\n",
      "[]\n"
     ]
    }
   ],
   "source": [
    "print(list_predict)\n",
    "print(list_teamname)\n",
    "print(list_teamsize)"
   ]
  },
  {
   "cell_type": "code",
   "execution_count": 21,
   "metadata": {
    "execution": {
     "iopub.execute_input": "2020-12-14T16:32:42.144289Z",
     "iopub.status.busy": "2020-12-14T16:32:42.143573Z",
     "iopub.status.idle": "2020-12-14T16:32:42.147354Z",
     "shell.execute_reply": "2020-12-14T16:32:42.146688Z"
    },
    "papermill": {
     "duration": 0.043569,
     "end_time": "2020-12-14T16:32:42.147478",
     "exception": false,
     "start_time": "2020-12-14T16:32:42.103909",
     "status": "completed"
    },
    "tags": []
   },
   "outputs": [],
   "source": [
    "import pandas as pd\n",
    "\n",
    "#static example:\n",
    "l1 = ['Heros', 'TopGun', 'Boosters', 'Lovelyguys']\n",
    "l2 = [6, 5, 4, 6]\n",
    "l3 = ['0:56', '0:59', '1:15', '0:41']\n",
    "\n",
    "#or in a dynamic way:\n",
    "\n",
    "# l1 = list_teamname\n",
    "# l2 = list_teamsize\n",
    "# l3 = list_predict\n",
    "\n",
    "\n",
    "\n",
    "def create_bestlist():\n",
    "    global l1, l2, l3, df\n",
    "    \n",
    "    #create pandas dataframe out of lists\n",
    "    df = pd.DataFrame(list(zip(l1, l2, l3)), columns =['Teamname', 'Teamsize', 'Score'])\n",
    "    \n",
    "    #add additional column Rank in order to sort the results\n",
    "    df['Rank'] = df['Score'].rank(axis=0, ascending=True)\n",
    "    \n",
    "    print(df)\n",
    "    "
   ]
  },
  {
   "cell_type": "code",
   "execution_count": 22,
   "metadata": {
    "execution": {
     "iopub.execute_input": "2020-12-14T16:32:42.217959Z",
     "iopub.status.busy": "2020-12-14T16:32:42.216867Z",
     "iopub.status.idle": "2020-12-14T16:32:42.235686Z",
     "shell.execute_reply": "2020-12-14T16:32:42.234943Z"
    },
    "papermill": {
     "duration": 0.056872,
     "end_time": "2020-12-14T16:32:42.235830",
     "exception": false,
     "start_time": "2020-12-14T16:32:42.178958",
     "status": "completed"
    },
    "tags": []
   },
   "outputs": [
    {
     "name": "stdout",
     "output_type": "stream",
     "text": [
      "     Teamname  Teamsize Score  Rank\n",
      "0       Heros         6  0:56   2.0\n",
      "1      TopGun         5  0:59   3.0\n",
      "2    Boosters         4  1:15   4.0\n",
      "3  Lovelyguys         6  0:41   1.0\n"
     ]
    }
   ],
   "source": [
    "create_bestlist()"
   ]
  },
  {
   "cell_type": "code",
   "execution_count": 23,
   "metadata": {
    "execution": {
     "iopub.execute_input": "2020-12-14T16:32:42.313565Z",
     "iopub.status.busy": "2020-12-14T16:32:42.312759Z",
     "iopub.status.idle": "2020-12-14T16:32:42.319563Z",
     "shell.execute_reply": "2020-12-14T16:32:42.318806Z"
    },
    "papermill": {
     "duration": 0.050434,
     "end_time": "2020-12-14T16:32:42.319689",
     "exception": false,
     "start_time": "2020-12-14T16:32:42.269255",
     "status": "completed"
    },
    "tags": []
   },
   "outputs": [
    {
     "name": "stdout",
     "output_type": "stream",
     "text": [
      "     Teamname  Teamsize Score  Rank              Colors\n",
      "3  Lovelyguys         6  0:41   1.0   rgb(49, 130, 189)\n",
      "0       Heros         6  0:56   2.0  rgb(239, 243, 255)\n",
      "1      TopGun         5  0:59   3.0  rgb(189, 215, 231)\n",
      "2    Boosters         4  1:15   4.0  rgb(107, 174, 214)\n"
     ]
    }
   ],
   "source": [
    "colors = ['rgb(239, 243, 255)', 'rgb(189, 215, 231)', 'rgb(107, 174, 214)',\n",
    "          'rgb(49, 130, 189)']\n",
    "\n",
    "df['Colors'] = colors\n",
    "\n",
    "df = df.sort_values(by=['Rank'])\n",
    "print(df)"
   ]
  },
  {
   "cell_type": "code",
   "execution_count": 24,
   "metadata": {
    "execution": {
     "iopub.execute_input": "2020-12-14T16:32:42.404586Z",
     "iopub.status.busy": "2020-12-14T16:32:42.403858Z",
     "iopub.status.idle": "2020-12-14T16:32:42.676473Z",
     "shell.execute_reply": "2020-12-14T16:32:42.673479Z"
    },
    "papermill": {
     "duration": 0.322175,
     "end_time": "2020-12-14T16:32:42.676689",
     "exception": false,
     "start_time": "2020-12-14T16:32:42.354514",
     "status": "completed"
    },
    "tags": []
   },
   "outputs": [
    {
     "data": {
      "text/html": [
       "        <script type=\"text/javascript\">\n",
       "        window.PlotlyConfig = {MathJaxConfig: 'local'};\n",
       "        if (window.MathJax) {MathJax.Hub.Config({SVG: {font: \"STIX-Web\"}});}\n",
       "        if (typeof require !== 'undefined') {\n",
       "        require.undef(\"plotly\");\n",
       "        requirejs.config({\n",
       "            paths: {\n",
       "                'plotly': ['https://cdn.plot.ly/plotly-latest.min']\n",
       "            }\n",
       "        });\n",
       "        require(['plotly'], function(Plotly) {\n",
       "            window._Plotly = Plotly;\n",
       "        });\n",
       "        }\n",
       "        </script>\n",
       "        "
      ]
     },
     "metadata": {},
     "output_type": "display_data"
    },
    {
     "data": {
      "text/html": [
       "<div>                            <div id=\"04e17ae6-a703-4a0a-aef5-ff1a8874a29b\" class=\"plotly-graph-div\" style=\"height:525px; width:100%;\"></div>            <script type=\"text/javascript\">                require([\"plotly\"], function(Plotly) {                    window.PLOTLYENV=window.PLOTLYENV || {};                                    if (document.getElementById(\"04e17ae6-a703-4a0a-aef5-ff1a8874a29b\")) {                    Plotly.newPlot(                        \"04e17ae6-a703-4a0a-aef5-ff1a8874a29b\",                        [{\"cells\": {\"align\": \"center\", \"fill\": {\"color\": [[\"rgb(49, 130, 189)\", \"rgb(239, 243, 255)\", \"rgb(189, 215, 231)\", \"rgb(107, 174, 214)\"]]}, \"font\": {\"color\": \"black\", \"size\": 11}, \"line\": {\"color\": [[\"rgb(49, 130, 189)\", \"rgb(239, 243, 255)\", \"rgb(189, 215, 231)\", \"rgb(107, 174, 214)\"]]}, \"values\": [[\"Lovelyguys\", \"Heros\", \"TopGun\", \"Boosters\"], [6, 6, 5, 4], [\"0:41\", \"0:56\", \"0:59\", \"1:15\"], [1.0, 2.0, 3.0, 4.0]]}, \"header\": {\"align\": \"center\", \"fill\": {\"color\": \"white\"}, \"font\": {\"color\": \"black\", \"size\": 12}, \"line\": {\"color\": \"white\"}, \"values\": [\"<b>Teamname<b>\", \"<b>Teamsize</b>\", \"<b>Score</b>\", \"<b>Rank</b>\"]}, \"type\": \"table\"}],                        {\"template\": {\"data\": {\"bar\": [{\"error_x\": {\"color\": \"#2a3f5f\"}, \"error_y\": {\"color\": \"#2a3f5f\"}, \"marker\": {\"line\": {\"color\": \"#E5ECF6\", \"width\": 0.5}}, \"type\": \"bar\"}], \"barpolar\": [{\"marker\": {\"line\": {\"color\": \"#E5ECF6\", \"width\": 0.5}}, \"type\": \"barpolar\"}], \"carpet\": [{\"aaxis\": {\"endlinecolor\": \"#2a3f5f\", \"gridcolor\": \"white\", \"linecolor\": \"white\", \"minorgridcolor\": \"white\", \"startlinecolor\": \"#2a3f5f\"}, \"baxis\": {\"endlinecolor\": \"#2a3f5f\", \"gridcolor\": \"white\", \"linecolor\": \"white\", \"minorgridcolor\": \"white\", \"startlinecolor\": \"#2a3f5f\"}, \"type\": \"carpet\"}], \"choropleth\": [{\"colorbar\": {\"outlinewidth\": 0, \"ticks\": \"\"}, \"type\": \"choropleth\"}], \"contour\": [{\"colorbar\": {\"outlinewidth\": 0, \"ticks\": \"\"}, \"colorscale\": [[0.0, \"#0d0887\"], [0.1111111111111111, \"#46039f\"], [0.2222222222222222, \"#7201a8\"], [0.3333333333333333, \"#9c179e\"], [0.4444444444444444, \"#bd3786\"], [0.5555555555555556, \"#d8576b\"], [0.6666666666666666, \"#ed7953\"], [0.7777777777777778, \"#fb9f3a\"], [0.8888888888888888, \"#fdca26\"], [1.0, \"#f0f921\"]], \"type\": \"contour\"}], \"contourcarpet\": [{\"colorbar\": {\"outlinewidth\": 0, \"ticks\": \"\"}, \"type\": \"contourcarpet\"}], \"heatmap\": [{\"colorbar\": {\"outlinewidth\": 0, \"ticks\": \"\"}, \"colorscale\": [[0.0, \"#0d0887\"], [0.1111111111111111, \"#46039f\"], [0.2222222222222222, \"#7201a8\"], [0.3333333333333333, \"#9c179e\"], [0.4444444444444444, \"#bd3786\"], [0.5555555555555556, \"#d8576b\"], [0.6666666666666666, \"#ed7953\"], [0.7777777777777778, \"#fb9f3a\"], [0.8888888888888888, \"#fdca26\"], [1.0, \"#f0f921\"]], \"type\": \"heatmap\"}], \"heatmapgl\": [{\"colorbar\": {\"outlinewidth\": 0, \"ticks\": \"\"}, \"colorscale\": [[0.0, \"#0d0887\"], [0.1111111111111111, \"#46039f\"], [0.2222222222222222, \"#7201a8\"], [0.3333333333333333, \"#9c179e\"], [0.4444444444444444, \"#bd3786\"], [0.5555555555555556, \"#d8576b\"], [0.6666666666666666, \"#ed7953\"], [0.7777777777777778, \"#fb9f3a\"], [0.8888888888888888, \"#fdca26\"], [1.0, \"#f0f921\"]], \"type\": \"heatmapgl\"}], \"histogram\": [{\"marker\": {\"colorbar\": {\"outlinewidth\": 0, \"ticks\": \"\"}}, \"type\": \"histogram\"}], \"histogram2d\": [{\"colorbar\": {\"outlinewidth\": 0, \"ticks\": \"\"}, \"colorscale\": [[0.0, \"#0d0887\"], [0.1111111111111111, \"#46039f\"], [0.2222222222222222, \"#7201a8\"], [0.3333333333333333, \"#9c179e\"], [0.4444444444444444, \"#bd3786\"], [0.5555555555555556, \"#d8576b\"], [0.6666666666666666, \"#ed7953\"], [0.7777777777777778, \"#fb9f3a\"], [0.8888888888888888, \"#fdca26\"], [1.0, \"#f0f921\"]], \"type\": \"histogram2d\"}], \"histogram2dcontour\": [{\"colorbar\": {\"outlinewidth\": 0, \"ticks\": \"\"}, \"colorscale\": [[0.0, \"#0d0887\"], [0.1111111111111111, \"#46039f\"], [0.2222222222222222, \"#7201a8\"], [0.3333333333333333, \"#9c179e\"], [0.4444444444444444, \"#bd3786\"], [0.5555555555555556, \"#d8576b\"], [0.6666666666666666, \"#ed7953\"], [0.7777777777777778, \"#fb9f3a\"], [0.8888888888888888, \"#fdca26\"], [1.0, \"#f0f921\"]], \"type\": \"histogram2dcontour\"}], \"mesh3d\": [{\"colorbar\": {\"outlinewidth\": 0, \"ticks\": \"\"}, \"type\": \"mesh3d\"}], \"parcoords\": [{\"line\": {\"colorbar\": {\"outlinewidth\": 0, \"ticks\": \"\"}}, \"type\": \"parcoords\"}], \"pie\": [{\"automargin\": true, \"type\": \"pie\"}], \"scatter\": [{\"marker\": {\"colorbar\": {\"outlinewidth\": 0, \"ticks\": \"\"}}, \"type\": \"scatter\"}], \"scatter3d\": [{\"line\": {\"colorbar\": {\"outlinewidth\": 0, \"ticks\": \"\"}}, \"marker\": {\"colorbar\": {\"outlinewidth\": 0, \"ticks\": \"\"}}, \"type\": \"scatter3d\"}], \"scattercarpet\": [{\"marker\": {\"colorbar\": {\"outlinewidth\": 0, \"ticks\": \"\"}}, \"type\": \"scattercarpet\"}], \"scattergeo\": [{\"marker\": {\"colorbar\": {\"outlinewidth\": 0, \"ticks\": \"\"}}, \"type\": \"scattergeo\"}], \"scattergl\": [{\"marker\": {\"colorbar\": {\"outlinewidth\": 0, \"ticks\": \"\"}}, \"type\": \"scattergl\"}], \"scattermapbox\": [{\"marker\": {\"colorbar\": {\"outlinewidth\": 0, \"ticks\": \"\"}}, \"type\": \"scattermapbox\"}], \"scatterpolar\": [{\"marker\": {\"colorbar\": {\"outlinewidth\": 0, \"ticks\": \"\"}}, \"type\": \"scatterpolar\"}], \"scatterpolargl\": [{\"marker\": {\"colorbar\": {\"outlinewidth\": 0, \"ticks\": \"\"}}, \"type\": \"scatterpolargl\"}], \"scatterternary\": [{\"marker\": {\"colorbar\": {\"outlinewidth\": 0, \"ticks\": \"\"}}, \"type\": \"scatterternary\"}], \"surface\": [{\"colorbar\": {\"outlinewidth\": 0, \"ticks\": \"\"}, \"colorscale\": [[0.0, \"#0d0887\"], [0.1111111111111111, \"#46039f\"], [0.2222222222222222, \"#7201a8\"], [0.3333333333333333, \"#9c179e\"], [0.4444444444444444, \"#bd3786\"], [0.5555555555555556, \"#d8576b\"], [0.6666666666666666, \"#ed7953\"], [0.7777777777777778, \"#fb9f3a\"], [0.8888888888888888, \"#fdca26\"], [1.0, \"#f0f921\"]], \"type\": \"surface\"}], \"table\": [{\"cells\": {\"fill\": {\"color\": \"#EBF0F8\"}, \"line\": {\"color\": \"white\"}}, \"header\": {\"fill\": {\"color\": \"#C8D4E3\"}, \"line\": {\"color\": \"white\"}}, \"type\": \"table\"}]}, \"layout\": {\"annotationdefaults\": {\"arrowcolor\": \"#2a3f5f\", \"arrowhead\": 0, \"arrowwidth\": 1}, \"coloraxis\": {\"colorbar\": {\"outlinewidth\": 0, \"ticks\": \"\"}}, \"colorscale\": {\"diverging\": [[0, \"#8e0152\"], [0.1, \"#c51b7d\"], [0.2, \"#de77ae\"], [0.3, \"#f1b6da\"], [0.4, \"#fde0ef\"], [0.5, \"#f7f7f7\"], [0.6, \"#e6f5d0\"], [0.7, \"#b8e186\"], [0.8, \"#7fbc41\"], [0.9, \"#4d9221\"], [1, \"#276419\"]], \"sequential\": [[0.0, \"#0d0887\"], [0.1111111111111111, \"#46039f\"], [0.2222222222222222, \"#7201a8\"], [0.3333333333333333, \"#9c179e\"], [0.4444444444444444, \"#bd3786\"], [0.5555555555555556, \"#d8576b\"], [0.6666666666666666, \"#ed7953\"], [0.7777777777777778, \"#fb9f3a\"], [0.8888888888888888, \"#fdca26\"], [1.0, \"#f0f921\"]], \"sequentialminus\": [[0.0, \"#0d0887\"], [0.1111111111111111, \"#46039f\"], [0.2222222222222222, \"#7201a8\"], [0.3333333333333333, \"#9c179e\"], [0.4444444444444444, \"#bd3786\"], [0.5555555555555556, \"#d8576b\"], [0.6666666666666666, \"#ed7953\"], [0.7777777777777778, \"#fb9f3a\"], [0.8888888888888888, \"#fdca26\"], [1.0, \"#f0f921\"]]}, \"colorway\": [\"#636efa\", \"#EF553B\", \"#00cc96\", \"#ab63fa\", \"#FFA15A\", \"#19d3f3\", \"#FF6692\", \"#B6E880\", \"#FF97FF\", \"#FECB52\"], \"font\": {\"color\": \"#2a3f5f\"}, \"geo\": {\"bgcolor\": \"white\", \"lakecolor\": \"white\", \"landcolor\": \"#E5ECF6\", \"showlakes\": true, \"showland\": true, \"subunitcolor\": \"white\"}, \"hoverlabel\": {\"align\": \"left\"}, \"hovermode\": \"closest\", \"mapbox\": {\"style\": \"light\"}, \"paper_bgcolor\": \"white\", \"plot_bgcolor\": \"#E5ECF6\", \"polar\": {\"angularaxis\": {\"gridcolor\": \"white\", \"linecolor\": \"white\", \"ticks\": \"\"}, \"bgcolor\": \"#E5ECF6\", \"radialaxis\": {\"gridcolor\": \"white\", \"linecolor\": \"white\", \"ticks\": \"\"}}, \"scene\": {\"xaxis\": {\"backgroundcolor\": \"#E5ECF6\", \"gridcolor\": \"white\", \"gridwidth\": 2, \"linecolor\": \"white\", \"showbackground\": true, \"ticks\": \"\", \"zerolinecolor\": \"white\"}, \"yaxis\": {\"backgroundcolor\": \"#E5ECF6\", \"gridcolor\": \"white\", \"gridwidth\": 2, \"linecolor\": \"white\", \"showbackground\": true, \"ticks\": \"\", \"zerolinecolor\": \"white\"}, \"zaxis\": {\"backgroundcolor\": \"#E5ECF6\", \"gridcolor\": \"white\", \"gridwidth\": 2, \"linecolor\": \"white\", \"showbackground\": true, \"ticks\": \"\", \"zerolinecolor\": \"white\"}}, \"shapedefaults\": {\"line\": {\"color\": \"#2a3f5f\"}}, \"ternary\": {\"aaxis\": {\"gridcolor\": \"white\", \"linecolor\": \"white\", \"ticks\": \"\"}, \"baxis\": {\"gridcolor\": \"white\", \"linecolor\": \"white\", \"ticks\": \"\"}, \"bgcolor\": \"#E5ECF6\", \"caxis\": {\"gridcolor\": \"white\", \"linecolor\": \"white\", \"ticks\": \"\"}}, \"title\": {\"x\": 0.05}, \"xaxis\": {\"automargin\": true, \"gridcolor\": \"white\", \"linecolor\": \"white\", \"ticks\": \"\", \"title\": {\"standoff\": 15}, \"zerolinecolor\": \"white\", \"zerolinewidth\": 2}, \"yaxis\": {\"automargin\": true, \"gridcolor\": \"white\", \"linecolor\": \"white\", \"ticks\": \"\", \"title\": {\"standoff\": 15}, \"zerolinecolor\": \"white\", \"zerolinewidth\": 2}}}},                        {\"responsive\": true}                    ).then(function(){\n",
       "                            \n",
       "var gd = document.getElementById('04e17ae6-a703-4a0a-aef5-ff1a8874a29b');\n",
       "var x = new MutationObserver(function (mutations, observer) {{\n",
       "        var display = window.getComputedStyle(gd).display;\n",
       "        if (!display || display === 'none') {{\n",
       "            console.log([gd, 'removed!']);\n",
       "            Plotly.purge(gd);\n",
       "            observer.disconnect();\n",
       "        }}\n",
       "}});\n",
       "\n",
       "// Listen for the removal of the full notebook cells\n",
       "var notebookContainer = gd.closest('#notebook-container');\n",
       "if (notebookContainer) {{\n",
       "    x.observe(notebookContainer, {childList: true});\n",
       "}}\n",
       "\n",
       "// Listen for the clearing of the current output cell\n",
       "var outputEl = gd.closest('.output');\n",
       "if (outputEl) {{\n",
       "    x.observe(outputEl, {childList: true});\n",
       "}}\n",
       "\n",
       "                        })                };                });            </script>        </div>"
      ]
     },
     "metadata": {},
     "output_type": "display_data"
    }
   ],
   "source": [
    "import plotly.graph_objects as go\n",
    "from plotly.colors import n_colors\n",
    "\n",
    "#import dash\n",
    "#import dash_core_components as dcc\n",
    "\n",
    "\n",
    "fig = go.Figure(data=[go.Table(\n",
    "  header=dict(\n",
    "    values=[\"<b>Teamname<b>\", \"<b>Teamsize</b>\", \"<b>Score</b>\", \"<b>Rank</b>\"],\n",
    "    line_color='white', fill_color='white',\n",
    "    align='center', font=dict(color='black', size=12)\n",
    "  ),\n",
    "  cells=dict(\n",
    "    values=[df.Teamname, df.Teamsize, df.Score, df.Rank],\n",
    "    line_color=[df.Colors], fill_color=[df.Colors],\n",
    "    align='center', font=dict(color='black', size=11)\n",
    "  ))\n",
    "])\n",
    "\n",
    "fig.show()\n",
    "\n",
    "# app = dash.Dash()\n",
    "# app.layout = html.Div([\n",
    "#     dcc.Graph(figure=fig)\n",
    "# ])"
   ]
  }
 ],
 "metadata": {
  "kernelspec": {
   "display_name": "Python 3",
   "language": "python",
   "name": "python3"
  },
  "language_info": {
   "codemirror_mode": {
    "name": "ipython",
    "version": 3
   },
   "file_extension": ".py",
   "mimetype": "text/x-python",
   "name": "python",
   "nbconvert_exporter": "python",
   "pygments_lexer": "ipython3",
   "version": "3.7.6"
  },
  "papermill": {
   "duration": 11.306017,
   "end_time": "2020-12-14T16:32:42.823443",
   "environment_variables": {},
   "exception": null,
   "input_path": "__notebook__.ipynb",
   "output_path": "__notebook__.ipynb",
   "parameters": {},
   "start_time": "2020-12-14T16:32:31.517426",
   "version": "2.1.0"
  },
  "widgets": {
   "application/vnd.jupyter.widget-state+json": {
    "state": {
     "1435bf4373bd4e15bc2057dddde77e99": {
      "model_module": "@jupyter-widgets/base",
      "model_module_version": "1.2.0",
      "model_name": "LayoutModel",
      "state": {
       "_model_module": "@jupyter-widgets/base",
       "_model_module_version": "1.2.0",
       "_model_name": "LayoutModel",
       "_view_count": null,
       "_view_module": "@jupyter-widgets/base",
       "_view_module_version": "1.2.0",
       "_view_name": "LayoutView",
       "align_content": null,
       "align_items": null,
       "align_self": null,
       "border": null,
       "bottom": null,
       "display": null,
       "flex": null,
       "flex_flow": null,
       "grid_area": null,
       "grid_auto_columns": null,
       "grid_auto_flow": null,
       "grid_auto_rows": null,
       "grid_column": null,
       "grid_gap": null,
       "grid_row": null,
       "grid_template_areas": null,
       "grid_template_columns": null,
       "grid_template_rows": null,
       "height": null,
       "justify_content": null,
       "justify_items": null,
       "left": null,
       "margin": null,
       "max_height": null,
       "max_width": null,
       "min_height": null,
       "min_width": null,
       "object_fit": null,
       "object_position": null,
       "order": null,
       "overflow": null,
       "overflow_x": null,
       "overflow_y": null,
       "padding": null,
       "right": null,
       "top": null,
       "visibility": null,
       "width": null
      }
     },
     "18917a1cd97e4584884ee11eb1723566": {
      "model_module": "@jupyter-widgets/controls",
      "model_module_version": "1.5.0",
      "model_name": "DescriptionStyleModel",
      "state": {
       "_model_module": "@jupyter-widgets/controls",
       "_model_module_version": "1.5.0",
       "_model_name": "DescriptionStyleModel",
       "_view_count": null,
       "_view_module": "@jupyter-widgets/base",
       "_view_module_version": "1.2.0",
       "_view_name": "StyleView",
       "description_width": ""
      }
     },
     "1d1efc40a6e64ba294e78570236e411a": {
      "model_module": "@jupyter-widgets/controls",
      "model_module_version": "1.5.0",
      "model_name": "DescriptionStyleModel",
      "state": {
       "_model_module": "@jupyter-widgets/controls",
       "_model_module_version": "1.5.0",
       "_model_name": "DescriptionStyleModel",
       "_view_count": null,
       "_view_module": "@jupyter-widgets/base",
       "_view_module_version": "1.2.0",
       "_view_name": "StyleView",
       "description_width": ""
      }
     },
     "2dc74b60ccc442d38c7a7925068a12c3": {
      "model_module": "@jupyter-widgets/base",
      "model_module_version": "1.2.0",
      "model_name": "LayoutModel",
      "state": {
       "_model_module": "@jupyter-widgets/base",
       "_model_module_version": "1.2.0",
       "_model_name": "LayoutModel",
       "_view_count": null,
       "_view_module": "@jupyter-widgets/base",
       "_view_module_version": "1.2.0",
       "_view_name": "LayoutView",
       "align_content": null,
       "align_items": null,
       "align_self": null,
       "border": null,
       "bottom": null,
       "display": null,
       "flex": null,
       "flex_flow": null,
       "grid_area": null,
       "grid_auto_columns": null,
       "grid_auto_flow": null,
       "grid_auto_rows": null,
       "grid_column": null,
       "grid_gap": null,
       "grid_row": null,
       "grid_template_areas": null,
       "grid_template_columns": null,
       "grid_template_rows": null,
       "height": null,
       "justify_content": null,
       "justify_items": null,
       "left": null,
       "margin": null,
       "max_height": null,
       "max_width": null,
       "min_height": null,
       "min_width": null,
       "object_fit": null,
       "object_position": null,
       "order": null,
       "overflow": null,
       "overflow_x": null,
       "overflow_y": null,
       "padding": null,
       "right": null,
       "top": null,
       "visibility": null,
       "width": null
      }
     },
     "3171d9ddeb7343e1bf2465e9c903be5f": {
      "model_module": "@jupyter-widgets/controls",
      "model_module_version": "1.5.0",
      "model_name": "TextModel",
      "state": {
       "_dom_classes": [],
       "_model_module": "@jupyter-widgets/controls",
       "_model_module_version": "1.5.0",
       "_model_name": "TextModel",
       "_view_count": null,
       "_view_module": "@jupyter-widgets/controls",
       "_view_module_version": "1.5.0",
       "_view_name": "TextView",
       "continuous_update": true,
       "description": "category:",
       "description_tooltip": null,
       "disabled": false,
       "layout": "IPY_MODEL_496c2d09213a4bef985f44fb9041c846",
       "placeholder": "best=0, middle=1, bad=2",
       "style": "IPY_MODEL_6cc708d98b20426aa675b4411d02b078",
       "value": ""
      }
     },
     "4851c1c6b7a342e0b5614361114d56b7": {
      "model_module": "@jupyter-widgets/controls",
      "model_module_version": "1.5.0",
      "model_name": "TextModel",
      "state": {
       "_dom_classes": [],
       "_model_module": "@jupyter-widgets/controls",
       "_model_module_version": "1.5.0",
       "_model_name": "TextModel",
       "_view_count": null,
       "_view_module": "@jupyter-widgets/controls",
       "_view_module_version": "1.5.0",
       "_view_name": "TextView",
       "continuous_update": true,
       "description": "gender:",
       "description_tooltip": null,
       "disabled": false,
       "layout": "IPY_MODEL_645987fab93d41a8b7c29eb8ba1348e5",
       "placeholder": "1=female, 0=male, 0=divers",
       "style": "IPY_MODEL_18917a1cd97e4584884ee11eb1723566",
       "value": ""
      }
     },
     "496c2d09213a4bef985f44fb9041c846": {
      "model_module": "@jupyter-widgets/base",
      "model_module_version": "1.2.0",
      "model_name": "LayoutModel",
      "state": {
       "_model_module": "@jupyter-widgets/base",
       "_model_module_version": "1.2.0",
       "_model_name": "LayoutModel",
       "_view_count": null,
       "_view_module": "@jupyter-widgets/base",
       "_view_module_version": "1.2.0",
       "_view_name": "LayoutView",
       "align_content": null,
       "align_items": null,
       "align_self": null,
       "border": null,
       "bottom": null,
       "display": null,
       "flex": null,
       "flex_flow": null,
       "grid_area": null,
       "grid_auto_columns": null,
       "grid_auto_flow": null,
       "grid_auto_rows": null,
       "grid_column": null,
       "grid_gap": null,
       "grid_row": null,
       "grid_template_areas": null,
       "grid_template_columns": null,
       "grid_template_rows": null,
       "height": null,
       "justify_content": null,
       "justify_items": null,
       "left": null,
       "margin": null,
       "max_height": null,
       "max_width": null,
       "min_height": null,
       "min_width": null,
       "object_fit": null,
       "object_position": null,
       "order": null,
       "overflow": null,
       "overflow_x": null,
       "overflow_y": null,
       "padding": null,
       "right": null,
       "top": null,
       "visibility": null,
       "width": null
      }
     },
     "4a46fb727bd541868c12741ebb2c29d2": {
      "model_module": "@jupyter-widgets/base",
      "model_module_version": "1.2.0",
      "model_name": "LayoutModel",
      "state": {
       "_model_module": "@jupyter-widgets/base",
       "_model_module_version": "1.2.0",
       "_model_name": "LayoutModel",
       "_view_count": null,
       "_view_module": "@jupyter-widgets/base",
       "_view_module_version": "1.2.0",
       "_view_name": "LayoutView",
       "align_content": null,
       "align_items": null,
       "align_self": null,
       "border": null,
       "bottom": null,
       "display": null,
       "flex": null,
       "flex_flow": null,
       "grid_area": null,
       "grid_auto_columns": null,
       "grid_auto_flow": null,
       "grid_auto_rows": null,
       "grid_column": null,
       "grid_gap": null,
       "grid_row": null,
       "grid_template_areas": null,
       "grid_template_columns": null,
       "grid_template_rows": null,
       "height": null,
       "justify_content": null,
       "justify_items": null,
       "left": null,
       "margin": null,
       "max_height": null,
       "max_width": null,
       "min_height": null,
       "min_width": null,
       "object_fit": null,
       "object_position": null,
       "order": null,
       "overflow": null,
       "overflow_x": null,
       "overflow_y": null,
       "padding": null,
       "right": null,
       "top": null,
       "visibility": null,
       "width": null
      }
     },
     "4dae576bfcf0440c9196335a3618c23e": {
      "model_module": "@jupyter-widgets/controls",
      "model_module_version": "1.5.0",
      "model_name": "TextModel",
      "state": {
       "_dom_classes": [],
       "_model_module": "@jupyter-widgets/controls",
       "_model_module_version": "1.5.0",
       "_model_name": "TextModel",
       "_view_count": null,
       "_view_module": "@jupyter-widgets/controls",
       "_view_module_version": "1.5.0",
       "_view_name": "TextView",
       "continuous_update": true,
       "description": "female?:",
       "description_tooltip": null,
       "disabled": false,
       "layout": "IPY_MODEL_4f9a097529ab4df9b8e6400eb1eee68b",
       "placeholder": "1=female, 0=male, 0=divers",
       "style": "IPY_MODEL_ccdfecb7f3d448a8bffc3c956610ad2d",
       "value": "1"
      }
     },
     "4f9a097529ab4df9b8e6400eb1eee68b": {
      "model_module": "@jupyter-widgets/base",
      "model_module_version": "1.2.0",
      "model_name": "LayoutModel",
      "state": {
       "_model_module": "@jupyter-widgets/base",
       "_model_module_version": "1.2.0",
       "_model_name": "LayoutModel",
       "_view_count": null,
       "_view_module": "@jupyter-widgets/base",
       "_view_module_version": "1.2.0",
       "_view_name": "LayoutView",
       "align_content": null,
       "align_items": null,
       "align_self": null,
       "border": null,
       "bottom": null,
       "display": null,
       "flex": null,
       "flex_flow": null,
       "grid_area": null,
       "grid_auto_columns": null,
       "grid_auto_flow": null,
       "grid_auto_rows": null,
       "grid_column": null,
       "grid_gap": null,
       "grid_row": null,
       "grid_template_areas": null,
       "grid_template_columns": null,
       "grid_template_rows": null,
       "height": null,
       "justify_content": null,
       "justify_items": null,
       "left": null,
       "margin": null,
       "max_height": null,
       "max_width": null,
       "min_height": null,
       "min_width": null,
       "object_fit": null,
       "object_position": null,
       "order": null,
       "overflow": null,
       "overflow_x": null,
       "overflow_y": null,
       "padding": null,
       "right": null,
       "top": null,
       "visibility": null,
       "width": null
      }
     },
     "523c121ff7bc4ddd971297efed8998f2": {
      "model_module": "@jupyter-widgets/controls",
      "model_module_version": "1.5.0",
      "model_name": "TextModel",
      "state": {
       "_dom_classes": [],
       "_model_module": "@jupyter-widgets/controls",
       "_model_module_version": "1.5.0",
       "_model_name": "TextModel",
       "_view_count": null,
       "_view_module": "@jupyter-widgets/controls",
       "_view_module_version": "1.5.0",
       "_view_name": "TextView",
       "continuous_update": true,
       "description": "team-name:",
       "description_tooltip": null,
       "disabled": false,
       "layout": "IPY_MODEL_a25fb9a1ab834042835284303bb1335e",
       "placeholder": "teamname",
       "style": "IPY_MODEL_dabd9365b12b447ba56c711957b722cd",
       "value": ""
      }
     },
     "5542ab64969845d5bdc420d3cf1522fd": {
      "model_module": "@jupyter-widgets/controls",
      "model_module_version": "1.5.0",
      "model_name": "TextModel",
      "state": {
       "_dom_classes": [],
       "_model_module": "@jupyter-widgets/controls",
       "_model_module_version": "1.5.0",
       "_model_name": "TextModel",
       "_view_count": null,
       "_view_module": "@jupyter-widgets/controls",
       "_view_module_version": "1.5.0",
       "_view_name": "TextView",
       "continuous_update": true,
       "description": "age:",
       "description_tooltip": null,
       "disabled": false,
       "layout": "IPY_MODEL_4a46fb727bd541868c12741ebb2c29d2",
       "placeholder": "age",
       "style": "IPY_MODEL_eccaa6fff06a43d385c0ed9da0c1bb57",
       "value": ""
      }
     },
     "645987fab93d41a8b7c29eb8ba1348e5": {
      "model_module": "@jupyter-widgets/base",
      "model_module_version": "1.2.0",
      "model_name": "LayoutModel",
      "state": {
       "_model_module": "@jupyter-widgets/base",
       "_model_module_version": "1.2.0",
       "_model_name": "LayoutModel",
       "_view_count": null,
       "_view_module": "@jupyter-widgets/base",
       "_view_module_version": "1.2.0",
       "_view_name": "LayoutView",
       "align_content": null,
       "align_items": null,
       "align_self": null,
       "border": null,
       "bottom": null,
       "display": null,
       "flex": null,
       "flex_flow": null,
       "grid_area": null,
       "grid_auto_columns": null,
       "grid_auto_flow": null,
       "grid_auto_rows": null,
       "grid_column": null,
       "grid_gap": null,
       "grid_row": null,
       "grid_template_areas": null,
       "grid_template_columns": null,
       "grid_template_rows": null,
       "height": null,
       "justify_content": null,
       "justify_items": null,
       "left": null,
       "margin": null,
       "max_height": null,
       "max_width": null,
       "min_height": null,
       "min_width": null,
       "object_fit": null,
       "object_position": null,
       "order": null,
       "overflow": null,
       "overflow_x": null,
       "overflow_y": null,
       "padding": null,
       "right": null,
       "top": null,
       "visibility": null,
       "width": null
      }
     },
     "67de5bbf158d40cc859f933d94a30975": {
      "model_module": "@jupyter-widgets/controls",
      "model_module_version": "1.5.0",
      "model_name": "TextModel",
      "state": {
       "_dom_classes": [],
       "_model_module": "@jupyter-widgets/controls",
       "_model_module_version": "1.5.0",
       "_model_name": "TextModel",
       "_view_count": null,
       "_view_module": "@jupyter-widgets/controls",
       "_view_module_version": "1.5.0",
       "_view_name": "TextView",
       "continuous_update": true,
       "description": "estimation:",
       "description_tooltip": null,
       "disabled": false,
       "layout": "IPY_MODEL_cbe3d4b97cc9444b8b036c0116a3b959",
       "placeholder": "0=best, 1=middle, 0=bad",
       "style": "IPY_MODEL_8c22ed9495694a5887a309300ff33ae0",
       "value": "1"
      }
     },
     "6cc708d98b20426aa675b4411d02b078": {
      "model_module": "@jupyter-widgets/controls",
      "model_module_version": "1.5.0",
      "model_name": "DescriptionStyleModel",
      "state": {
       "_model_module": "@jupyter-widgets/controls",
       "_model_module_version": "1.5.0",
       "_model_name": "DescriptionStyleModel",
       "_view_count": null,
       "_view_module": "@jupyter-widgets/base",
       "_view_module_version": "1.2.0",
       "_view_name": "StyleView",
       "description_width": ""
      }
     },
     "82eb17a045674919b295e97aaf680a8f": {
      "model_module": "@jupyter-widgets/base",
      "model_module_version": "1.2.0",
      "model_name": "LayoutModel",
      "state": {
       "_model_module": "@jupyter-widgets/base",
       "_model_module_version": "1.2.0",
       "_model_name": "LayoutModel",
       "_view_count": null,
       "_view_module": "@jupyter-widgets/base",
       "_view_module_version": "1.2.0",
       "_view_name": "LayoutView",
       "align_content": null,
       "align_items": null,
       "align_self": null,
       "border": null,
       "bottom": null,
       "display": null,
       "flex": null,
       "flex_flow": null,
       "grid_area": null,
       "grid_auto_columns": null,
       "grid_auto_flow": null,
       "grid_auto_rows": null,
       "grid_column": null,
       "grid_gap": null,
       "grid_row": null,
       "grid_template_areas": null,
       "grid_template_columns": null,
       "grid_template_rows": null,
       "height": null,
       "justify_content": null,
       "justify_items": null,
       "left": null,
       "margin": null,
       "max_height": null,
       "max_width": null,
       "min_height": null,
       "min_width": null,
       "object_fit": null,
       "object_position": null,
       "order": null,
       "overflow": null,
       "overflow_x": null,
       "overflow_y": null,
       "padding": null,
       "right": null,
       "top": null,
       "visibility": null,
       "width": null
      }
     },
     "8c22ed9495694a5887a309300ff33ae0": {
      "model_module": "@jupyter-widgets/controls",
      "model_module_version": "1.5.0",
      "model_name": "DescriptionStyleModel",
      "state": {
       "_model_module": "@jupyter-widgets/controls",
       "_model_module_version": "1.5.0",
       "_model_name": "DescriptionStyleModel",
       "_view_count": null,
       "_view_module": "@jupyter-widgets/base",
       "_view_module_version": "1.2.0",
       "_view_name": "StyleView",
       "description_width": ""
      }
     },
     "a25fb9a1ab834042835284303bb1335e": {
      "model_module": "@jupyter-widgets/base",
      "model_module_version": "1.2.0",
      "model_name": "LayoutModel",
      "state": {
       "_model_module": "@jupyter-widgets/base",
       "_model_module_version": "1.2.0",
       "_model_name": "LayoutModel",
       "_view_count": null,
       "_view_module": "@jupyter-widgets/base",
       "_view_module_version": "1.2.0",
       "_view_name": "LayoutView",
       "align_content": null,
       "align_items": null,
       "align_self": null,
       "border": null,
       "bottom": null,
       "display": null,
       "flex": null,
       "flex_flow": null,
       "grid_area": null,
       "grid_auto_columns": null,
       "grid_auto_flow": null,
       "grid_auto_rows": null,
       "grid_column": null,
       "grid_gap": null,
       "grid_row": null,
       "grid_template_areas": null,
       "grid_template_columns": null,
       "grid_template_rows": null,
       "height": null,
       "justify_content": null,
       "justify_items": null,
       "left": null,
       "margin": null,
       "max_height": null,
       "max_width": null,
       "min_height": null,
       "min_width": null,
       "object_fit": null,
       "object_position": null,
       "order": null,
       "overflow": null,
       "overflow_x": null,
       "overflow_y": null,
       "padding": null,
       "right": null,
       "top": null,
       "visibility": null,
       "width": null
      }
     },
     "a71315c1beb74bb28f9587436c19ad99": {
      "model_module": "@jupyter-widgets/controls",
      "model_module_version": "1.5.0",
      "model_name": "ButtonStyleModel",
      "state": {
       "_model_module": "@jupyter-widgets/controls",
       "_model_module_version": "1.5.0",
       "_model_name": "ButtonStyleModel",
       "_view_count": null,
       "_view_module": "@jupyter-widgets/base",
       "_view_module_version": "1.2.0",
       "_view_name": "StyleView",
       "button_color": null,
       "font_weight": ""
      }
     },
     "c39ee7c36352468bbca330d356f719e2": {
      "model_module": "@jupyter-widgets/controls",
      "model_module_version": "1.5.0",
      "model_name": "DescriptionStyleModel",
      "state": {
       "_model_module": "@jupyter-widgets/controls",
       "_model_module_version": "1.5.0",
       "_model_name": "DescriptionStyleModel",
       "_view_count": null,
       "_view_module": "@jupyter-widgets/base",
       "_view_module_version": "1.2.0",
       "_view_name": "StyleView",
       "description_width": ""
      }
     },
     "cbe3d4b97cc9444b8b036c0116a3b959": {
      "model_module": "@jupyter-widgets/base",
      "model_module_version": "1.2.0",
      "model_name": "LayoutModel",
      "state": {
       "_model_module": "@jupyter-widgets/base",
       "_model_module_version": "1.2.0",
       "_model_name": "LayoutModel",
       "_view_count": null,
       "_view_module": "@jupyter-widgets/base",
       "_view_module_version": "1.2.0",
       "_view_name": "LayoutView",
       "align_content": null,
       "align_items": null,
       "align_self": null,
       "border": null,
       "bottom": null,
       "display": null,
       "flex": null,
       "flex_flow": null,
       "grid_area": null,
       "grid_auto_columns": null,
       "grid_auto_flow": null,
       "grid_auto_rows": null,
       "grid_column": null,
       "grid_gap": null,
       "grid_row": null,
       "grid_template_areas": null,
       "grid_template_columns": null,
       "grid_template_rows": null,
       "height": null,
       "justify_content": null,
       "justify_items": null,
       "left": null,
       "margin": null,
       "max_height": null,
       "max_width": null,
       "min_height": null,
       "min_width": null,
       "object_fit": null,
       "object_position": null,
       "order": null,
       "overflow": null,
       "overflow_x": null,
       "overflow_y": null,
       "padding": null,
       "right": null,
       "top": null,
       "visibility": null,
       "width": null
      }
     },
     "ccdfecb7f3d448a8bffc3c956610ad2d": {
      "model_module": "@jupyter-widgets/controls",
      "model_module_version": "1.5.0",
      "model_name": "DescriptionStyleModel",
      "state": {
       "_model_module": "@jupyter-widgets/controls",
       "_model_module_version": "1.5.0",
       "_model_name": "DescriptionStyleModel",
       "_view_count": null,
       "_view_module": "@jupyter-widgets/base",
       "_view_module_version": "1.2.0",
       "_view_name": "StyleView",
       "description_width": ""
      }
     },
     "d280e2e3e6b243829736991637ea4993": {
      "model_module": "@jupyter-widgets/controls",
      "model_module_version": "1.5.0",
      "model_name": "ButtonModel",
      "state": {
       "_dom_classes": [],
       "_model_module": "@jupyter-widgets/controls",
       "_model_module_version": "1.5.0",
       "_model_name": "ButtonModel",
       "_view_count": null,
       "_view_module": "@jupyter-widgets/controls",
       "_view_module_version": "1.5.0",
       "_view_name": "ButtonView",
       "button_style": "warning",
       "description": "Create",
       "disabled": false,
       "icon": "check",
       "layout": "IPY_MODEL_ec75e21ddcf74db3a6f9267c664f2301",
       "style": "IPY_MODEL_a71315c1beb74bb28f9587436c19ad99",
       "tooltip": "search"
      }
     },
     "dabd9365b12b447ba56c711957b722cd": {
      "model_module": "@jupyter-widgets/controls",
      "model_module_version": "1.5.0",
      "model_name": "DescriptionStyleModel",
      "state": {
       "_model_module": "@jupyter-widgets/controls",
       "_model_module_version": "1.5.0",
       "_model_name": "DescriptionStyleModel",
       "_view_count": null,
       "_view_module": "@jupyter-widgets/base",
       "_view_module_version": "1.2.0",
       "_view_name": "StyleView",
       "description_width": ""
      }
     },
     "e5f85d6b51874168a8118bf2924b4181": {
      "model_module": "@jupyter-widgets/controls",
      "model_module_version": "1.5.0",
      "model_name": "TextModel",
      "state": {
       "_dom_classes": [],
       "_model_module": "@jupyter-widgets/controls",
       "_model_module_version": "1.5.0",
       "_model_name": "TextModel",
       "_view_count": null,
       "_view_module": "@jupyter-widgets/controls",
       "_view_module_version": "1.5.0",
       "_view_name": "TextView",
       "continuous_update": true,
       "description": "male?:",
       "description_tooltip": null,
       "disabled": false,
       "layout": "IPY_MODEL_82eb17a045674919b295e97aaf680a8f",
       "placeholder": "0=female, 1=male, 0=divers",
       "style": "IPY_MODEL_1d1efc40a6e64ba294e78570236e411a",
       "value": "0"
      }
     },
     "ec75e21ddcf74db3a6f9267c664f2301": {
      "model_module": "@jupyter-widgets/base",
      "model_module_version": "1.2.0",
      "model_name": "LayoutModel",
      "state": {
       "_model_module": "@jupyter-widgets/base",
       "_model_module_version": "1.2.0",
       "_model_name": "LayoutModel",
       "_view_count": null,
       "_view_module": "@jupyter-widgets/base",
       "_view_module_version": "1.2.0",
       "_view_name": "LayoutView",
       "align_content": null,
       "align_items": null,
       "align_self": null,
       "border": null,
       "bottom": null,
       "display": null,
       "flex": null,
       "flex_flow": null,
       "grid_area": null,
       "grid_auto_columns": null,
       "grid_auto_flow": null,
       "grid_auto_rows": null,
       "grid_column": null,
       "grid_gap": null,
       "grid_row": null,
       "grid_template_areas": null,
       "grid_template_columns": null,
       "grid_template_rows": null,
       "height": null,
       "justify_content": null,
       "justify_items": null,
       "left": null,
       "margin": null,
       "max_height": null,
       "max_width": null,
       "min_height": null,
       "min_width": null,
       "object_fit": null,
       "object_position": null,
       "order": null,
       "overflow": null,
       "overflow_x": null,
       "overflow_y": null,
       "padding": null,
       "right": null,
       "top": null,
       "visibility": null,
       "width": null
      }
     },
     "eccaa6fff06a43d385c0ed9da0c1bb57": {
      "model_module": "@jupyter-widgets/controls",
      "model_module_version": "1.5.0",
      "model_name": "DescriptionStyleModel",
      "state": {
       "_model_module": "@jupyter-widgets/controls",
       "_model_module_version": "1.5.0",
       "_model_name": "DescriptionStyleModel",
       "_view_count": null,
       "_view_module": "@jupyter-widgets/base",
       "_view_module_version": "1.2.0",
       "_view_name": "StyleView",
       "description_width": ""
      }
     },
     "f93e10c7f899414ca13ab31d6443e496": {
      "model_module": "@jupyter-widgets/controls",
      "model_module_version": "1.5.0",
      "model_name": "DescriptionStyleModel",
      "state": {
       "_model_module": "@jupyter-widgets/controls",
       "_model_module_version": "1.5.0",
       "_model_name": "DescriptionStyleModel",
       "_view_count": null,
       "_view_module": "@jupyter-widgets/base",
       "_view_module_version": "1.2.0",
       "_view_name": "StyleView",
       "description_width": ""
      }
     },
     "fa5a5f03349848ffbeceb4a4c21c1fa1": {
      "model_module": "@jupyter-widgets/controls",
      "model_module_version": "1.5.0",
      "model_name": "TextModel",
      "state": {
       "_dom_classes": [],
       "_model_module": "@jupyter-widgets/controls",
       "_model_module_version": "1.5.0",
       "_model_name": "TextModel",
       "_view_count": null,
       "_view_module": "@jupyter-widgets/controls",
       "_view_module_version": "1.5.0",
       "_view_name": "TextView",
       "continuous_update": true,
       "description": "teamsize:",
       "description_tooltip": null,
       "disabled": false,
       "layout": "IPY_MODEL_2dc74b60ccc442d38c7a7925068a12c3",
       "placeholder": "teamsize",
       "style": "IPY_MODEL_c39ee7c36352468bbca330d356f719e2",
       "value": ""
      }
     },
     "ff499737f4304cf68613d296281cb901": {
      "model_module": "@jupyter-widgets/controls",
      "model_module_version": "1.5.0",
      "model_name": "TextModel",
      "state": {
       "_dom_classes": [],
       "_model_module": "@jupyter-widgets/controls",
       "_model_module_version": "1.5.0",
       "_model_name": "TextModel",
       "_view_count": null,
       "_view_module": "@jupyter-widgets/controls",
       "_view_module_version": "1.5.0",
       "_view_name": "TextView",
       "continuous_update": true,
       "description": "estimation:",
       "description_tooltip": null,
       "disabled": false,
       "layout": "IPY_MODEL_1435bf4373bd4e15bc2057dddde77e99",
       "placeholder": "1=best, 0=middle, 0=bad",
       "style": "IPY_MODEL_f93e10c7f899414ca13ab31d6443e496",
       "value": "0"
      }
     }
    },
    "version_major": 2,
    "version_minor": 0
   }
  }
 },
 "nbformat": 4,
 "nbformat_minor": 4
}
